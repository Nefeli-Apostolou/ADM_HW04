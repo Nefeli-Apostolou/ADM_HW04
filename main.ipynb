{
 "cells": [
  {
   "cell_type": "markdown",
   "metadata": {},
   "source": [
    "Before we start we will import all the libraries we will need."
   ]
  },
  {
   "cell_type": "code",
   "execution_count": 1,
   "metadata": {},
   "outputs": [],
   "source": [
    "import pandas as pd\n",
    "import random\n",
    "import csv\n",
    "import matplotlib.pyplot as plt\n",
    "from collections import defaultdict"
   ]
  },
  {
   "cell_type": "markdown",
   "metadata": {},
   "source": [
    "# 1. Recommendation System with LSH"
   ]
  },
  {
   "cell_type": "markdown",
   "metadata": {},
   "source": [
    "## 1.1 Data Preparation"
   ]
  },
  {
   "cell_type": "markdown",
   "metadata": {},
   "source": [
    "Let's download and explore our dataset."
   ]
  },
  {
   "cell_type": "code",
   "execution_count": 2,
   "metadata": {},
   "outputs": [],
   "source": [
    "# Loading all the data\n",
    "movies_df = pd.read_csv('movie.csv')\n",
    "g_scores_df = pd.read_csv('genome_scores.csv')\n",
    "g_tags_df = pd.read_csv('genome_tags.csv')\n",
    "link_df = pd.read_csv('link.csv')\n",
    "rating_df = pd.read_csv('rating.csv')\n",
    "tag_df = pd.read_csv('tag.csv')"
   ]
  },
  {
   "cell_type": "markdown",
   "metadata": {},
   "source": [
    "For this part of the project we will need only the movies and rating df. So we are going to merge them and analyse them."
   ]
  },
  {
   "cell_type": "code",
   "execution_count": 3,
   "metadata": {},
   "outputs": [],
   "source": [
    "# Merge the two Data sets\n",
    "titles_and_ratings_df = pd.merge(movies_df, rating_df) "
   ]
  },
  {
   "cell_type": "code",
   "execution_count": 4,
   "metadata": {},
   "outputs": [
    {
     "data": {
      "text/html": [
       "<div>\n",
       "<style scoped>\n",
       "    .dataframe tbody tr th:only-of-type {\n",
       "        vertical-align: middle;\n",
       "    }\n",
       "\n",
       "    .dataframe tbody tr th {\n",
       "        vertical-align: top;\n",
       "    }\n",
       "\n",
       "    .dataframe thead th {\n",
       "        text-align: right;\n",
       "    }\n",
       "</style>\n",
       "<table border=\"1\" class=\"dataframe\">\n",
       "  <thead>\n",
       "    <tr style=\"text-align: right;\">\n",
       "      <th></th>\n",
       "      <th>movieId</th>\n",
       "      <th>title</th>\n",
       "      <th>genres</th>\n",
       "      <th>userId</th>\n",
       "      <th>rating</th>\n",
       "      <th>timestamp</th>\n",
       "    </tr>\n",
       "  </thead>\n",
       "  <tbody>\n",
       "    <tr>\n",
       "      <th>0</th>\n",
       "      <td>1</td>\n",
       "      <td>Toy Story (1995)</td>\n",
       "      <td>Adventure|Animation|Children|Comedy|Fantasy</td>\n",
       "      <td>3</td>\n",
       "      <td>4.0</td>\n",
       "      <td>1999-12-11 13:36:47</td>\n",
       "    </tr>\n",
       "    <tr>\n",
       "      <th>1</th>\n",
       "      <td>1</td>\n",
       "      <td>Toy Story (1995)</td>\n",
       "      <td>Adventure|Animation|Children|Comedy|Fantasy</td>\n",
       "      <td>6</td>\n",
       "      <td>5.0</td>\n",
       "      <td>1997-03-13 17:50:52</td>\n",
       "    </tr>\n",
       "    <tr>\n",
       "      <th>2</th>\n",
       "      <td>1</td>\n",
       "      <td>Toy Story (1995)</td>\n",
       "      <td>Adventure|Animation|Children|Comedy|Fantasy</td>\n",
       "      <td>8</td>\n",
       "      <td>4.0</td>\n",
       "      <td>1996-06-05 13:37:51</td>\n",
       "    </tr>\n",
       "    <tr>\n",
       "      <th>3</th>\n",
       "      <td>1</td>\n",
       "      <td>Toy Story (1995)</td>\n",
       "      <td>Adventure|Animation|Children|Comedy|Fantasy</td>\n",
       "      <td>10</td>\n",
       "      <td>4.0</td>\n",
       "      <td>1999-11-25 02:44:47</td>\n",
       "    </tr>\n",
       "    <tr>\n",
       "      <th>4</th>\n",
       "      <td>1</td>\n",
       "      <td>Toy Story (1995)</td>\n",
       "      <td>Adventure|Animation|Children|Comedy|Fantasy</td>\n",
       "      <td>11</td>\n",
       "      <td>4.5</td>\n",
       "      <td>2009-01-02 01:13:41</td>\n",
       "    </tr>\n",
       "    <tr>\n",
       "      <th>...</th>\n",
       "      <td>...</td>\n",
       "      <td>...</td>\n",
       "      <td>...</td>\n",
       "      <td>...</td>\n",
       "      <td>...</td>\n",
       "      <td>...</td>\n",
       "    </tr>\n",
       "    <tr>\n",
       "      <th>20000258</th>\n",
       "      <td>131254</td>\n",
       "      <td>Kein Bund für's Leben (2007)</td>\n",
       "      <td>Comedy</td>\n",
       "      <td>79570</td>\n",
       "      <td>4.0</td>\n",
       "      <td>2015-03-30 19:32:59</td>\n",
       "    </tr>\n",
       "    <tr>\n",
       "      <th>20000259</th>\n",
       "      <td>131256</td>\n",
       "      <td>Feuer, Eis &amp; Dosenbier (2002)</td>\n",
       "      <td>Comedy</td>\n",
       "      <td>79570</td>\n",
       "      <td>4.0</td>\n",
       "      <td>2015-03-30 19:48:08</td>\n",
       "    </tr>\n",
       "    <tr>\n",
       "      <th>20000260</th>\n",
       "      <td>131258</td>\n",
       "      <td>The Pirates (2014)</td>\n",
       "      <td>Adventure</td>\n",
       "      <td>28906</td>\n",
       "      <td>2.5</td>\n",
       "      <td>2015-03-30 19:56:32</td>\n",
       "    </tr>\n",
       "    <tr>\n",
       "      <th>20000261</th>\n",
       "      <td>131260</td>\n",
       "      <td>Rentun Ruusu (2001)</td>\n",
       "      <td>(no genres listed)</td>\n",
       "      <td>65409</td>\n",
       "      <td>3.0</td>\n",
       "      <td>2015-03-30 19:57:46</td>\n",
       "    </tr>\n",
       "    <tr>\n",
       "      <th>20000262</th>\n",
       "      <td>131262</td>\n",
       "      <td>Innocence (2014)</td>\n",
       "      <td>Adventure|Fantasy|Horror</td>\n",
       "      <td>133047</td>\n",
       "      <td>4.0</td>\n",
       "      <td>2015-03-30 20:39:26</td>\n",
       "    </tr>\n",
       "  </tbody>\n",
       "</table>\n",
       "<p>20000263 rows × 6 columns</p>\n",
       "</div>"
      ],
      "text/plain": [
       "          movieId                          title  \\\n",
       "0               1               Toy Story (1995)   \n",
       "1               1               Toy Story (1995)   \n",
       "2               1               Toy Story (1995)   \n",
       "3               1               Toy Story (1995)   \n",
       "4               1               Toy Story (1995)   \n",
       "...           ...                            ...   \n",
       "20000258   131254   Kein Bund für's Leben (2007)   \n",
       "20000259   131256  Feuer, Eis & Dosenbier (2002)   \n",
       "20000260   131258             The Pirates (2014)   \n",
       "20000261   131260            Rentun Ruusu (2001)   \n",
       "20000262   131262               Innocence (2014)   \n",
       "\n",
       "                                               genres  userId  rating  \\\n",
       "0         Adventure|Animation|Children|Comedy|Fantasy       3     4.0   \n",
       "1         Adventure|Animation|Children|Comedy|Fantasy       6     5.0   \n",
       "2         Adventure|Animation|Children|Comedy|Fantasy       8     4.0   \n",
       "3         Adventure|Animation|Children|Comedy|Fantasy      10     4.0   \n",
       "4         Adventure|Animation|Children|Comedy|Fantasy      11     4.5   \n",
       "...                                               ...     ...     ...   \n",
       "20000258                                       Comedy   79570     4.0   \n",
       "20000259                                       Comedy   79570     4.0   \n",
       "20000260                                    Adventure   28906     2.5   \n",
       "20000261                           (no genres listed)   65409     3.0   \n",
       "20000262                     Adventure|Fantasy|Horror  133047     4.0   \n",
       "\n",
       "                    timestamp  \n",
       "0         1999-12-11 13:36:47  \n",
       "1         1997-03-13 17:50:52  \n",
       "2         1996-06-05 13:37:51  \n",
       "3         1999-11-25 02:44:47  \n",
       "4         2009-01-02 01:13:41  \n",
       "...                       ...  \n",
       "20000258  2015-03-30 19:32:59  \n",
       "20000259  2015-03-30 19:48:08  \n",
       "20000260  2015-03-30 19:56:32  \n",
       "20000261  2015-03-30 19:57:46  \n",
       "20000262  2015-03-30 20:39:26  \n",
       "\n",
       "[20000263 rows x 6 columns]"
      ]
     },
     "execution_count": 4,
     "metadata": {},
     "output_type": "execute_result"
    }
   ],
   "source": [
    "titles_and_ratings_df"
   ]
  },
  {
   "cell_type": "code",
   "execution_count": 5,
   "metadata": {},
   "outputs": [
    {
     "data": {
      "text/plain": [
       "movieId      0\n",
       "title        0\n",
       "genres       0\n",
       "userId       0\n",
       "rating       0\n",
       "timestamp    0\n",
       "dtype: int64"
      ]
     },
     "execution_count": 5,
     "metadata": {},
     "output_type": "execute_result"
    }
   ],
   "source": [
    "# Checking for missing values\n",
    "titles_and_ratings_df.isnull().sum()"
   ]
  },
  {
   "cell_type": "code",
   "execution_count": 64,
   "metadata": {},
   "outputs": [
    {
     "name": "stdout",
     "output_type": "stream",
     "text": [
      "<class 'pandas.core.frame.DataFrame'>\n",
      "RangeIndex: 20000263 entries, 0 to 20000262\n",
      "Data columns (total 6 columns):\n",
      " #   Column     Dtype  \n",
      "---  ------     -----  \n",
      " 0   movieId    int64  \n",
      " 1   title      object \n",
      " 2   genres     object \n",
      " 3   userId     int64  \n",
      " 4   rating     float64\n",
      " 5   timestamp  object \n",
      "dtypes: float64(1), int64(2), object(3)\n",
      "memory usage: 915.5+ MB\n"
     ]
    }
   ],
   "source": [
    "titles_and_ratings_df.info()"
   ]
  },
  {
   "cell_type": "code",
   "execution_count": 65,
   "metadata": {},
   "outputs": [
    {
     "data": {
      "text/html": [
       "<div>\n",
       "<style scoped>\n",
       "    .dataframe tbody tr th:only-of-type {\n",
       "        vertical-align: middle;\n",
       "    }\n",
       "\n",
       "    .dataframe tbody tr th {\n",
       "        vertical-align: top;\n",
       "    }\n",
       "\n",
       "    .dataframe thead th {\n",
       "        text-align: right;\n",
       "    }\n",
       "</style>\n",
       "<table border=\"1\" class=\"dataframe\">\n",
       "  <thead>\n",
       "    <tr style=\"text-align: right;\">\n",
       "      <th></th>\n",
       "      <th>Kinds</th>\n",
       "    </tr>\n",
       "  </thead>\n",
       "  <tbody>\n",
       "    <tr>\n",
       "      <th>0</th>\n",
       "      <td>Adventure|Animation|Children|Comedy|Fantasy</td>\n",
       "    </tr>\n",
       "    <tr>\n",
       "      <th>1</th>\n",
       "      <td>Adventure|Children|Fantasy</td>\n",
       "    </tr>\n",
       "    <tr>\n",
       "      <th>2</th>\n",
       "      <td>Comedy|Romance</td>\n",
       "    </tr>\n",
       "    <tr>\n",
       "      <th>3</th>\n",
       "      <td>Comedy|Drama|Romance</td>\n",
       "    </tr>\n",
       "    <tr>\n",
       "      <th>4</th>\n",
       "      <td>Comedy</td>\n",
       "    </tr>\n",
       "    <tr>\n",
       "      <th>...</th>\n",
       "      <td>...</td>\n",
       "    </tr>\n",
       "    <tr>\n",
       "      <th>1324</th>\n",
       "      <td>Adventure|Children|Drama|Sci-Fi</td>\n",
       "    </tr>\n",
       "    <tr>\n",
       "      <th>1325</th>\n",
       "      <td>Children|Documentary|Drama</td>\n",
       "    </tr>\n",
       "    <tr>\n",
       "      <th>1326</th>\n",
       "      <td>Action|Adventure|Animation|Fantasy|Horror</td>\n",
       "    </tr>\n",
       "    <tr>\n",
       "      <th>1327</th>\n",
       "      <td>Animation|Children|Comedy|Fantasy|Sci-Fi</td>\n",
       "    </tr>\n",
       "    <tr>\n",
       "      <th>1328</th>\n",
       "      <td>Animation|Children|Comedy|Western</td>\n",
       "    </tr>\n",
       "  </tbody>\n",
       "</table>\n",
       "<p>1329 rows × 1 columns</p>\n",
       "</div>"
      ],
      "text/plain": [
       "                                            Kinds\n",
       "0     Adventure|Animation|Children|Comedy|Fantasy\n",
       "1                      Adventure|Children|Fantasy\n",
       "2                                  Comedy|Romance\n",
       "3                            Comedy|Drama|Romance\n",
       "4                                          Comedy\n",
       "...                                           ...\n",
       "1324              Adventure|Children|Drama|Sci-Fi\n",
       "1325                   Children|Documentary|Drama\n",
       "1326    Action|Adventure|Animation|Fantasy|Horror\n",
       "1327     Animation|Children|Comedy|Fantasy|Sci-Fi\n",
       "1328            Animation|Children|Comedy|Western\n",
       "\n",
       "[1329 rows x 1 columns]"
      ]
     },
     "execution_count": 65,
     "metadata": {},
     "output_type": "execute_result"
    }
   ],
   "source": [
    "# All the kinds of genres\n",
    "pd.DataFrame(titles_and_ratings_df[\"genres\"].unique(), columns= [\"Kinds\"])"
   ]
  },
  {
   "cell_type": "code",
   "execution_count": 66,
   "metadata": {},
   "outputs": [
    {
     "data": {
      "text/plain": [
       "138493"
      ]
     },
     "execution_count": 66,
     "metadata": {},
     "output_type": "execute_result"
    }
   ],
   "source": [
    "# Total number of users\n",
    "len(titles_and_ratings_df[\"userId\"].unique())"
   ]
  },
  {
   "cell_type": "markdown",
   "metadata": {},
   "source": [
    "## 1.2 Minhash Signatures"
   ]
  },
  {
   "cell_type": "markdown",
   "metadata": {},
   "source": [
    "Using the <strong> userId </strong> and <strong> movieId </strong> columns, implement your own MinHash function. This function will hash each user's watched movie list, creating a representation that allows for quick comparisons of user similarities."
   ]
  },
  {
   "cell_type": "markdown",
   "metadata": {},
   "source": [
    "To start with, we are going to create a dictionary that will contain all the movies each user has watched. So as keys we are going to use userId and as values, the movieId."
   ]
  },
  {
   "cell_type": "code",
   "execution_count": 6,
   "metadata": {},
   "outputs": [],
   "source": [
    "# Create the dictionary\n",
    "users_dict = titles_and_ratings_df.groupby('userId')['movieId'].apply(set).to_dict()"
   ]
  },
  {
   "cell_type": "markdown",
   "metadata": {},
   "source": [
    "Now we can move on and build our own MinHash function."
   ]
  },
  {
   "cell_type": "code",
   "execution_count": 7,
   "metadata": {},
   "outputs": [],
   "source": [
    "# First we have to define the hash function\n",
    "def hash_function(hashes, values, prime):\n",
    "    # It creates a number of hash functions and puts them in a list\n",
    "    hashes_list = []\n",
    "    for i in range(hashes):\n",
    "        a = random.randint(1, values)\n",
    "        b = random.randint(0, values)\n",
    "        hashes_list.append(lambda x, a=a, b=b, p=prime: (a * x + b) % p)\n",
    "    return hashes_list"
   ]
  },
  {
   "cell_type": "code",
   "execution_count": 8,
   "metadata": {},
   "outputs": [],
   "source": [
    "# Define MinHash Function\n",
    "def minhash(movie_set, hashes_list):\n",
    "    minhash_vector = []\n",
    "    for i in hashes_list:\n",
    "        min_hash = min(i(title) for title in movie_set)\n",
    "        minhash_vector.append(min_hash)\n",
    "    return minhash_vector"
   ]
  },
  {
   "cell_type": "markdown",
   "metadata": {},
   "source": [
    "Now if we want to do quick comparisons of user similarities, we have to create a <strong> Jaccard similarity </strong> function."
   ]
  },
  {
   "cell_type": "code",
   "execution_count": 9,
   "metadata": {},
   "outputs": [],
   "source": [
    "# Define Jaccard Similarity function using minhash functions\n",
    "def jaccard_similarity(user1, user2):\n",
    "    # user1 = signature of the first user\n",
    "    # user2 = signature of the second user\n",
    "    similarity = sum(1 for a, b in zip(user1, user2) if a == b) / len(user1)\n",
    "    return similarity"
   ]
  },
  {
   "cell_type": "code",
   "execution_count": 10,
   "metadata": {},
   "outputs": [],
   "source": [
    "# Define Actual Jaccard Similarity (using sets)\n",
    "def actual_jaccard(set1, set2):\n",
    "    intersection = len(set1 & set2)\n",
    "    union = len(set1 | set2)\n",
    "    return intersection / union if union != 0 else 0"
   ]
  },
  {
   "cell_type": "markdown",
   "metadata": {},
   "source": [
    "Experiment with different hash functions and threshold values to find the most effective configurations. Report these results. First we will define a function to calculate the mean error for different users."
   ]
  },
  {
   "cell_type": "code",
   "execution_count": 12,
   "metadata": {},
   "outputs": [],
   "source": [
    "# Define Mean Error Calculation\n",
    "def mean_error(users_dict, signature_matrix):\n",
    "    total_error = 0\n",
    "    pair_count = 0\n",
    "    for user1 in users_dict:\n",
    "        for user2 in users_dict:\n",
    "            if user1 < user2:  # Avoid duplicate pairs and self-comparison\n",
    "                # Actual Jaccard similarity\n",
    "                actual_similarity = actual_jaccard(users_dict[user1], users_dict[user2])\n",
    "                # Estimated Jaccard similarity from MinHash\n",
    "                estimated_similarity = jaccard_similarity(signature_matrix[user1], signature_matrix[user2])\n",
    "                # Add the absolute error\n",
    "                total_error += abs(actual_similarity - estimated_similarity)\n",
    "                pair_count += 1\n",
    "    # Return the mean error\n",
    "    return total_error / pair_count if pair_count > 0 else 0"
   ]
  },
  {
   "cell_type": "markdown",
   "metadata": {},
   "source": [
    "As our dataset is too big we will run the experiment by sampling 3000 random users."
   ]
  },
  {
   "cell_type": "code",
   "execution_count": null,
   "metadata": {},
   "outputs": [],
   "source": [
    "# Experimentation Function for a Sample of Users\n",
    "def experiment(users_dict, num_hashes_values, thresholds, sample_size):\n",
    "    results = []\n",
    "    # Randomly sample users from the dataset\n",
    "    sampled_users = random.sample(list(users_dict.keys()), sample_size)\n",
    "    sampled_users_dict = {user: users_dict[user] for user in sampled_users}\n",
    "    \n",
    "    max_movie_id = max(max(movies) for movies in users_dict.values())\n",
    "    prime = 10**9 + 7  # A large prime number\n",
    "    \n",
    "    # Iterate over different configurations of num_hashes and threshold\n",
    "    for num_hashes in num_hashes_values:\n",
    "        for threshold in thresholds:\n",
    "            # Generate hash functions\n",
    "            hashes_list = hash_function(num_hashes, max_movie_id, prime)\n",
    "\n",
    "            # Generate MinHash signatures for all sampled users\n",
    "            signature_matrix = {}\n",
    "            for user, movie_set in sampled_users_dict.items():\n",
    "                signature_matrix[user] = minhash(movie_set, hashes_list)\n",
    "\n",
    "            # Calculate the mean error for the current configuration\n",
    "            mean_error_value = mean_error(sampled_users_dict, signature_matrix)\n",
    "            results.append((num_hashes, threshold, mean_error_value))\n",
    "            print(f\"Experiment with {num_hashes} hashes and threshold {threshold} - Mean Error: {mean_error_value:.4f}\")\n",
    "    \n",
    "    # Return the results for all experiments\n",
    "    return results"
   ]
  },
  {
   "cell_type": "markdown",
   "metadata": {},
   "source": [
    "Now let's choose the number of hashses, the thresholds, the prime and the maximun values for the experiment. When it comes to values we will choose the biggest movie ID that there is in the dataset."
   ]
  },
  {
   "cell_type": "code",
   "execution_count": 74,
   "metadata": {},
   "outputs": [],
   "source": [
    "# Take a sample of users (for large datasets, this is a subset)\n",
    "sample_size = 3000  # Number of users to sample\n",
    "prime = 150001\n",
    "num_hashes_values = [100, 150, 200]\n",
    "thresholds = [0.5, 0.7, 0.8]\n",
    "values = max(titles_and_ratings_df['movieId'])"
   ]
  },
  {
   "cell_type": "code",
   "execution_count": 75,
   "metadata": {},
   "outputs": [
    {
     "name": "stdout",
     "output_type": "stream",
     "text": [
      "Experiment with 100 hashes and threshold 0.5 - The Mean Error: 0.0140\n",
      "Experiment with 100 hashes and threshold 0.7 - The Mean Error: 0.0145\n",
      "Experiment with 100 hashes and threshold 0.8 - The Mean Error: 0.0133\n",
      "Experiment with 150 hashes and threshold 0.5 - The Mean Error: 0.0113\n",
      "Experiment with 150 hashes and threshold 0.7 - The Mean Error: 0.0113\n",
      "Experiment with 150 hashes and threshold 0.8 - The Mean Error: 0.0115\n",
      "Experiment with 200 hashes and threshold 0.5 - The Mean Error: 0.0099\n",
      "Experiment with 200 hashes and threshold 0.7 - The Mean Error: 0.0092\n",
      "Experiment with 200 hashes and threshold 0.8 - The Mean Error: 0.0096\n",
      "Best combination is: 200 hashes, threshold 0.7 with mean error 0.0092\n"
     ]
    }
   ],
   "source": [
    "# Run the experiment on the sampled users\n",
    "results = experiment(users_dict, num_hashes_values, thresholds, sample_size, prime)\n",
    "# Find the best configuration with the lowest mean error\n",
    "best_config = min(results, key=lambda x: x[2])\n",
    "print(f\"Best combination is: {best_config[0]} hashes, threshold {best_config[1]} with mean error {best_config[2]:.4f}\")"
   ]
  },
  {
   "cell_type": "markdown",
   "metadata": {},
   "source": [
    "We are going to visualize the results by plotting them."
   ]
  },
  {
   "cell_type": "code",
   "execution_count": 76,
   "metadata": {},
   "outputs": [
    {
     "data": {
      "image/png": "[encoded data removed]",
      "text/plain": [
       "<Figure size 1000x600 with 1 Axes>"
      ]
     },
     "metadata": {},
     "output_type": "display_data"
    }
   ],
   "source": [
    "# Data: Experiment results\n",
    "hashes = [100, 100, 100, 150, 150, 150, 200, 200, 200]\n",
    "thresholds = [0.5, 0.7, 0.8, 0.5, 0.7, 0.8, 0.5, 0.7, 0.8]\n",
    "mean_errors = [0.0140, 0.0145, 0.0133, 0.0113, 0.0113, 0.0113, 0.0099, 0.0092, 0.0096]\n",
    "\n",
    "# Grouping by number of hashes (x-axis) and plotting for each threshold\n",
    "hashes_unique = sorted(set(hashes))\n",
    "thresholds_unique = sorted(set(thresholds))\n",
    "\n",
    "# Create a figure\n",
    "plt.figure(figsize=(10, 6))\n",
    "\n",
    "# Loop over thresholds and plot lines for each threshold\n",
    "for threshold in thresholds_unique:\n",
    "    threshold_errors = [mean_errors[i] for i in range(len(hashes)) if thresholds[i] == threshold]\n",
    "    plt.plot(hashes_unique, threshold_errors, marker='o', label=f'Threshold: {threshold}')\n",
    "\n",
    "# Labeling the axes\n",
    "plt.title('Mean Error vs Number of Hashes with Different Thresholds')\n",
    "plt.xlabel('Number of Hashes')\n",
    "plt.ylabel('Mean Error')\n",
    "\n",
    "# Add legend\n",
    "plt.legend(title=\"Thresholds\")\n",
    "\n",
    "# Show the plot\n",
    "plt.grid(True)\n",
    "plt.xticks(hashes_unique)  # Ensuring x-axis ticks are set to unique hash values\n",
    "plt.show()\n"
   ]
  },
  {
   "cell_type": "markdown",
   "metadata": {},
   "source": [
    "## Report\n",
    "As we can see by increasing the number of hashes we reduce the mean error by achieving the lowest mean error (0.0092) with 200 hashes.\n",
    "When it comes to the value of thresholds, it effects the results way less than the number of hashes. \n",
    "Finally we achieved the lowest mean error by using 200 hashes and 0.7 threshold."
   ]
  },
  {
   "cell_type": "markdown",
   "metadata": {},
   "source": [
    "Now we can create a dictionary for all the users "
   ]
  },
  {
   "cell_type": "code",
   "execution_count": 21,
   "metadata": {},
   "outputs": [],
   "source": [
    "# MinHash Signature Generation\n",
    "def minhash_signatures(users_dict, hashes, values):\n",
    "    hashes_list = hash_function(hashes, values, prime)\n",
    "    \n",
    "    # Create MinHash signatures for all users\n",
    "    signature_matrix = {}\n",
    "    for user, movie_set in users_dict.items():\n",
    "        signature_matrix[user] = minhash(movie_set, hashes_list)\n",
    "    \n",
    "    return signature_matrix"
   ]
  },
  {
   "cell_type": "code",
   "execution_count": 22,
   "metadata": {},
   "outputs": [],
   "source": [
    "hashes = 200\n",
    "prime = 150001\n",
    "values = max(titles_and_ratings_df['movieId'])\n",
    "\n",
    "\n",
    "# Generate MinHash signatures for all users in the dataset\n",
    "signature_matrix = minhash_signatures(users_dict, hashes, values)"
   ]
  },
  {
   "cell_type": "markdown",
   "metadata": {},
   "source": [
    "## 1.3 Locality-Sensitive Hashing (LSH)"
   ]
  },
  {
   "cell_type": "markdown",
   "metadata": {},
   "source": [
    "Now that we have generated MinHash user signatures, we will apply Locality-Sensitive Hashing (LSH) to cluster similar users."
   ]
  },
  {
   "cell_type": "markdown",
   "metadata": {},
   "source": [
    "1) <strong> Bucket Creation: </strong> For each user, divide the MinHash signature into bands and hash each band to form buckets. Users with similar bands should fall into the same buckets."
   ]
  },
  {
   "cell_type": "code",
   "execution_count": 23,
   "metadata": {},
   "outputs": [],
   "source": [
    "def create_buckets(signature_matrix, num_bands, rows_per_band):\n",
    "    \"\"\"\n",
    "    Create LSH buckets by dividing MinHash signature into bands and hashing each band.\n",
    "    \n",
    "    \n",
    "    Returns:\n",
    "    - buckets: A dictionary of buckets, where the key is the band hash, and the value is a list of users\n",
    "    \"\"\"\n",
    "    buckets = defaultdict(list)\n",
    "    \n",
    "    for user, signature in signature_matrix.items():\n",
    "        # Split the signature into bands\n",
    "        for i in range(num_bands):\n",
    "            start_index = i * rows_per_band\n",
    "            end_index = (i + 1) * rows_per_band\n",
    "            band = tuple(signature[start_index:end_index])  # Create a tuple of the band\n",
    "            \n",
    "            # Hash the band (using a simple hash function)\n",
    "            band_hash = hash(band)  # You can use a custom hash function if needed\n",
    "            buckets[band_hash].append(user)\n",
    "    \n",
    "    return buckets"
   ]
  },
  {
   "cell_type": "code",
   "execution_count": 24,
   "metadata": {},
   "outputs": [],
   "source": [
    "# Check the contents of a few buckets (debugging tip)\n",
    "def check_buckets(buckets, num_samples=5):\n",
    "    \"\"\"Print the contents of a few buckets for debugging.\"\"\"\n",
    "    for i, (bucket_hash, users) in enumerate(buckets.items()):\n",
    "        if i >= num_samples:\n",
    "            break\n",
    "        print(f\"Bucket {i} (Hash: {bucket_hash}): {users}\")"
   ]
  },
  {
   "cell_type": "markdown",
   "metadata": {},
   "source": [
    "The number of bands and rows per band has to be equal to: b * r = hashes. We choose 200 hashes."
   ]
  },
  {
   "cell_type": "code",
   "execution_count": 25,
   "metadata": {},
   "outputs": [
    {
     "name": "stdout",
     "output_type": "stream",
     "text": [
      "Bucket 0 (Hash: -7400468256567758958): [1]\n",
      "Bucket 1 (Hash: -7629808275392122178): [1]\n",
      "Bucket 2 (Hash: -3450412916942225252): [1]\n",
      "Bucket 3 (Hash: -2835098239069653929): [1]\n",
      "Bucket 4 (Hash: -3208175470550973363): [1]\n"
     ]
    }
   ],
   "source": [
    "# Set parameters \n",
    "num_bands = 10\n",
    "rows_per_band = 20\n",
    "\n",
    "# Create the LSH buckets\n",
    "buckets = create_buckets(signature_matrix, num_bands, rows_per_band)\n",
    "\n",
    "# Check the buckets to ensure users are grouped properly\n",
    "check_buckets(buckets)"
   ]
  },
  {
   "cell_type": "code",
   "execution_count": 26,
   "metadata": {},
   "outputs": [
    {
     "name": "stdout",
     "output_type": "stream",
     "text": [
      "Total clusters found: 2658\n",
      "Cluster: [13, 36800]\n",
      "Cluster: [13, 24947, 58930, 76529, 91009, 98676, 128513, 135496]\n",
      "Cluster: [26, 7790]\n",
      "Cluster: [26, 74881, 113079]\n",
      "Cluster: [39, 65635]\n"
     ]
    }
   ],
   "source": [
    "# Create clusters\n",
    "clusters = [users for users in buckets.values() if len(users) > 1]\n",
    "print(f\"Total clusters found: {len(clusters)}\")\n",
    "for cluster in clusters[:5]:  # Display the first 5 clusters\n",
    "    print(f\"Cluster: {cluster}\")"
   ]
  },
  {
   "cell_type": "markdown",
   "metadata": {},
   "source": [
    "Now, for a given user, identify the two most similar users based on their bucket placement. If a user doesn’t have any similar users in their bucket, adjust the parameters until similar users are found"
   ]
  },
  {
   "cell_type": "code",
   "execution_count": 27,
   "metadata": {},
   "outputs": [],
   "source": [
    "def find_similar_users(user_id, buckets, users_dict, threshold=0.7):\n",
    "    \"\"\"\n",
    "    Find the two most similar users based on Jaccard similarity, using LSH buckets.\n",
    "    \n",
    "    Returns:\n",
    "    - most_similar_users: List of two users most similar to the given user\n",
    "    \"\"\"\n",
    "    user_movies = users_dict[user_id]\n",
    "    most_similar_users = []\n",
    "    highest_similarity = 0\n",
    "    \n",
    "    # Iterate over all buckets to find the user's bucket\n",
    "    for band_hash, users in buckets.items():\n",
    "        if user_id in users:\n",
    "            # For each user in the same bucket, calculate Jaccard similarity\n",
    "            for other_user_id in users:\n",
    "                if other_user_id != user_id:  # Avoid comparing the user with themselves\n",
    "                    other_user_movies = users_dict[other_user_id]\n",
    "                    similarity = actual_jaccard(user_movies, other_user_movies)\n",
    "                    \n",
    "                    # If similarity is higher than the threshold, update the most similar users\n",
    "                    if similarity > threshold and similarity > highest_similarity:\n",
    "                        highest_similarity = similarity\n",
    "                        most_similar_users = [user_id, other_user_id]\n",
    "    \n",
    "    # Return the most similar users (if any)\n",
    "    if most_similar_users:\n",
    "        return most_similar_users, highest_similarity\n",
    "    else:\n",
    "        return None, 0  # If no similar users are found within the threshold"
   ]
  },
  {
   "cell_type": "code",
   "execution_count": 29,
   "metadata": {},
   "outputs": [
    {
     "name": "stdout",
     "output_type": "stream",
     "text": [
      "Most similar users to user 1: None with similarity: 0\n"
     ]
    }
   ],
   "source": [
    "# Example usage for a specific user (e.g., user 158)\n",
    "user_id = 158\n",
    "most_similar, similarity = find_similar_users(user_id, buckets, users_dict, threshold=0.7)\n",
    "print(f\"Most similar users to user 1: {most_similar} with similarity: {similarity}\")"
   ]
  },
  {
   "cell_type": "markdown",
   "metadata": {},
   "source": [
    "Movie Recommendation Logic:\n",
    "\n",
    "If both similar users have rated a movie, recommend this movie based on the average rating.\n",
    "If there are no commonly rated movies, recommend the top-rated movies of the most similar user."
   ]
  },
  {
   "cell_type": "code",
   "execution_count": null,
   "metadata": {},
   "outputs": [],
   "source": [
    "def recommend_movies(user_id, similar_users, rating_df, movies_df, users_dict):\n",
    "    \"\"\"\n",
    "    Recommend movies for a given user based on the most similar users and their ratings, including movie titles.\n",
    "    \n",
    "    Returns:\n",
    "        A DataFrame with recommended movies and corresponding information.\n",
    "    \"\"\"\n",
    "    user_recommendations = []\n",
    "    similar_user1, similar_user2 = similar_users  \n",
    "\n",
    "    # Get ratings for the similar users\n",
    "    user1_ratings = rating_df[rating_df['userId'] == similar_user1]\n",
    "    user2_ratings = rating_df[rating_df['userId'] == similar_user2]\n",
    "\n",
    "    # Find common movies rated by both similar users\n",
    "    user1_movies = set(user1_ratings['movieId'])\n",
    "    user2_movies = set(user2_ratings['movieId'])\n",
    "    common_movies = user1_movies.intersection(user2_movies)\n",
    "\n",
    "    if common_movies:\n",
    "        # Add common movies with average ratings\n",
    "        for movie in common_movies:\n",
    "            rating1 = user1_ratings[user1_ratings['movieId'] == movie]['rating'].values[0]\n",
    "            rating2 = user2_ratings[user2_ratings['movieId'] == movie]['rating'].values[0]\n",
    "            avg_rating = (rating1 + rating2) / 2\n",
    "\n",
    "            movie_title = movies_df[movies_df['movieId'] == movie]['title'].values[0]\n",
    "            user_recommendations.append({'Target User': user_id, \n",
    "                                         'Similar User': f'User {similar_user1} & {similar_user2}', \n",
    "                                         'Movie ID': movie, \n",
    "                                         'Title': movie_title, \n",
    "                                         'Rating': avg_rating})\n",
    "\n",
    "    # Add top-rated movies from both similar users\n",
    "    top_rated_user1 = user1_ratings.sort_values(by='rating', ascending=False)\n",
    "    top_rated_user2 = user2_ratings.sort_values(by='rating', ascending=False)\n",
    "\n",
    "    # Avoid recommending already included movies\n",
    "    already_recommended = {rec['Movie ID'] for rec in user_recommendations}\n",
    "\n",
    "    # Add top-rated movies from similar user 1\n",
    "    for _, row in top_rated_user1.iterrows():\n",
    "        if len(user_recommendations) >= 5:\n",
    "            break\n",
    "        if row['movieId'] not in already_recommended:\n",
    "            movie_title = movies_df[movies_df['movieId'] == row['movieId']]['title'].values[0]\n",
    "            user_recommendations.append({'Target User': user_id, \n",
    "                                         'Similar User': similar_user1, \n",
    "                                         'Movie ID': row['movieId'], \n",
    "                                         'Title': movie_title, \n",
    "                                         'Rating': row['rating']})\n",
    "\n",
    "    # Add top-rated movies from similar user 2\n",
    "    for _, row in top_rated_user2.iterrows():\n",
    "        if len(user_recommendations) >= 5:\n",
    "            break\n",
    "        if row['movieId'] not in already_recommended:\n",
    "            movie_title = movies_df[movies_df['movieId'] == row['movieId']]['title'].values[0]\n",
    "            user_recommendations.append({'Target User': user_id, \n",
    "                                         'Similar User': similar_user2, \n",
    "                                         'Movie ID': row['movieId'], \n",
    "                                         'Title': movie_title, \n",
    "                                         'Rating': row['rating']})\n",
    "\n",
    "    # Finalize the recommendations (ensure we get only top 5)\n",
    "    recommendations_df = pd.DataFrame(user_recommendations)\n",
    "\n",
    "    # Ensure each row represents a unique user with their own recommendations\n",
    "    recommendations_df = recommendations_df.head(5)  # Limit to 5 recommendations\n",
    "\n",
    "    return recommendations_df"
   ]
  },
  {
   "cell_type": "code",
   "execution_count": null,
   "metadata": {},
   "outputs": [
    {
     "name": "stdout",
     "output_type": "stream",
     "text": [
      "   Target User        Similar User  Movie ID                            Title  \\\n",
      "0            3  User 1999 & 111111      1285                  Heathers (1989)   \n",
      "1            3  User 1999 & 111111      3081             Sleepy Hollow (1999)   \n",
      "2            3  User 1999 & 111111      1036                  Die Hard (1988)   \n",
      "3            3  User 1999 & 111111      3087                  Scrooged (1988)   \n",
      "4            3  User 1999 & 111111      2710  Blair Witch Project, The (1999)   \n",
      "\n",
      "   Rating  \n",
      "0    4.75  \n",
      "1    3.75  \n",
      "2    4.25  \n",
      "3    3.75  \n",
      "4    2.50  \n"
     ]
    }
   ],
   "source": [
    "# Example usage of Recommend movies \n",
    "user_id = 3\n",
    "similar_users = [1999, 111111]\n",
    "recommended_movies = recommend_movies(user_id, similar_users, rating_df, movies_df, users_dict)\n",
    "\n",
    "print(recommended_movies)"
   ]
  }
 ],
 "metadata": {
  "kernelspec": {
   "display_name": "Python 3",
   "language": "python",
   "name": "python3"
  },
  "language_info": {
   "codemirror_mode": {
    "name": "ipython",
    "version": 3
   },
   "file_extension": ".py",
   "mimetype": "text/x-python",
   "name": "python",
   "nbconvert_exporter": "python",
   "pygments_lexer": "ipython3",
   "version": "3.12.7"
  }
 },
 "nbformat": 4,
 "nbformat_minor": 2
}
