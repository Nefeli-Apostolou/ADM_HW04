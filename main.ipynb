{
 "cells": [
  {
   "cell_type": "code",
   "execution_count": 1,
   "metadata": {},
   "outputs": [],
   "source": [
    "import pandas as pd\n",
    "import random\n",
    "import csv"
   ]
  },
  {
   "cell_type": "markdown",
   "metadata": {},
   "source": [
    "# 1. Recommendation System with LSH"
   ]
  },
  {
   "cell_type": "markdown",
   "metadata": {},
   "source": [
    "## 1.1 Data Preparation"
   ]
  },
  {
   "cell_type": "markdown",
   "metadata": {},
   "source": [
    "Before we biggin let's download and explore our dataset."
   ]
  },
  {
   "cell_type": "code",
   "execution_count": 2,
   "metadata": {},
   "outputs": [],
   "source": [
    "# Loading all the data\n",
    "movies_df = pd.read_csv('movie.csv')\n",
    "g_scores_df = pd.read_csv('genome_scores.csv')\n",
    "g_tags_df = pd.read_csv('genome_tags.csv')\n",
    "link_df = pd.read_csv('link.csv')\n",
    "rating_df = pd.read_csv('rating.csv')\n",
    "tag_df = pd.read_csv('tag.csv')"
   ]
  },
  {
   "cell_type": "markdown",
   "metadata": {},
   "source": [
    "For this part of the project we will need only the movies and rating df. So we are going to merge them and analyse them."
   ]
  },
  {
   "cell_type": "code",
   "execution_count": 3,
   "metadata": {},
   "outputs": [],
   "source": [
    "# Merge the two Data sets\n",
    "titles_and_ratings_df = pd.merge(movies_df, rating_df) "
   ]
  },
  {
   "cell_type": "code",
   "execution_count": 12,
   "metadata": {},
   "outputs": [
    {
     "data": {
      "text/html": [
       "<div>\n",
       "<style scoped>\n",
       "    .dataframe tbody tr th:only-of-type {\n",
       "        vertical-align: middle;\n",
       "    }\n",
       "\n",
       "    .dataframe tbody tr th {\n",
       "        vertical-align: top;\n",
       "    }\n",
       "\n",
       "    .dataframe thead th {\n",
       "        text-align: right;\n",
       "    }\n",
       "</style>\n",
       "<table border=\"1\" class=\"dataframe\">\n",
       "  <thead>\n",
       "    <tr style=\"text-align: right;\">\n",
       "      <th></th>\n",
       "      <th>movieId</th>\n",
       "      <th>title</th>\n",
       "      <th>genres</th>\n",
       "      <th>userId</th>\n",
       "      <th>rating</th>\n",
       "      <th>timestamp</th>\n",
       "    </tr>\n",
       "  </thead>\n",
       "  <tbody>\n",
       "    <tr>\n",
       "      <th>0</th>\n",
       "      <td>1</td>\n",
       "      <td>Toy Story (1995)</td>\n",
       "      <td>Adventure|Animation|Children|Comedy|Fantasy</td>\n",
       "      <td>3</td>\n",
       "      <td>4.0</td>\n",
       "      <td>1999-12-11 13:36:47</td>\n",
       "    </tr>\n",
       "    <tr>\n",
       "      <th>1</th>\n",
       "      <td>1</td>\n",
       "      <td>Toy Story (1995)</td>\n",
       "      <td>Adventure|Animation|Children|Comedy|Fantasy</td>\n",
       "      <td>6</td>\n",
       "      <td>5.0</td>\n",
       "      <td>1997-03-13 17:50:52</td>\n",
       "    </tr>\n",
       "    <tr>\n",
       "      <th>2</th>\n",
       "      <td>1</td>\n",
       "      <td>Toy Story (1995)</td>\n",
       "      <td>Adventure|Animation|Children|Comedy|Fantasy</td>\n",
       "      <td>8</td>\n",
       "      <td>4.0</td>\n",
       "      <td>1996-06-05 13:37:51</td>\n",
       "    </tr>\n",
       "    <tr>\n",
       "      <th>3</th>\n",
       "      <td>1</td>\n",
       "      <td>Toy Story (1995)</td>\n",
       "      <td>Adventure|Animation|Children|Comedy|Fantasy</td>\n",
       "      <td>10</td>\n",
       "      <td>4.0</td>\n",
       "      <td>1999-11-25 02:44:47</td>\n",
       "    </tr>\n",
       "    <tr>\n",
       "      <th>4</th>\n",
       "      <td>1</td>\n",
       "      <td>Toy Story (1995)</td>\n",
       "      <td>Adventure|Animation|Children|Comedy|Fantasy</td>\n",
       "      <td>11</td>\n",
       "      <td>4.5</td>\n",
       "      <td>2009-01-02 01:13:41</td>\n",
       "    </tr>\n",
       "    <tr>\n",
       "      <th>...</th>\n",
       "      <td>...</td>\n",
       "      <td>...</td>\n",
       "      <td>...</td>\n",
       "      <td>...</td>\n",
       "      <td>...</td>\n",
       "      <td>...</td>\n",
       "    </tr>\n",
       "    <tr>\n",
       "      <th>20000258</th>\n",
       "      <td>131254</td>\n",
       "      <td>Kein Bund für's Leben (2007)</td>\n",
       "      <td>Comedy</td>\n",
       "      <td>79570</td>\n",
       "      <td>4.0</td>\n",
       "      <td>2015-03-30 19:32:59</td>\n",
       "    </tr>\n",
       "    <tr>\n",
       "      <th>20000259</th>\n",
       "      <td>131256</td>\n",
       "      <td>Feuer, Eis &amp; Dosenbier (2002)</td>\n",
       "      <td>Comedy</td>\n",
       "      <td>79570</td>\n",
       "      <td>4.0</td>\n",
       "      <td>2015-03-30 19:48:08</td>\n",
       "    </tr>\n",
       "    <tr>\n",
       "      <th>20000260</th>\n",
       "      <td>131258</td>\n",
       "      <td>The Pirates (2014)</td>\n",
       "      <td>Adventure</td>\n",
       "      <td>28906</td>\n",
       "      <td>2.5</td>\n",
       "      <td>2015-03-30 19:56:32</td>\n",
       "    </tr>\n",
       "    <tr>\n",
       "      <th>20000261</th>\n",
       "      <td>131260</td>\n",
       "      <td>Rentun Ruusu (2001)</td>\n",
       "      <td>(no genres listed)</td>\n",
       "      <td>65409</td>\n",
       "      <td>3.0</td>\n",
       "      <td>2015-03-30 19:57:46</td>\n",
       "    </tr>\n",
       "    <tr>\n",
       "      <th>20000262</th>\n",
       "      <td>131262</td>\n",
       "      <td>Innocence (2014)</td>\n",
       "      <td>Adventure|Fantasy|Horror</td>\n",
       "      <td>133047</td>\n",
       "      <td>4.0</td>\n",
       "      <td>2015-03-30 20:39:26</td>\n",
       "    </tr>\n",
       "  </tbody>\n",
       "</table>\n",
       "<p>20000263 rows × 6 columns</p>\n",
       "</div>"
      ],
      "text/plain": [
       "          movieId                          title  \\\n",
       "0               1               Toy Story (1995)   \n",
       "1               1               Toy Story (1995)   \n",
       "2               1               Toy Story (1995)   \n",
       "3               1               Toy Story (1995)   \n",
       "4               1               Toy Story (1995)   \n",
       "...           ...                            ...   \n",
       "20000258   131254   Kein Bund für's Leben (2007)   \n",
       "20000259   131256  Feuer, Eis & Dosenbier (2002)   \n",
       "20000260   131258             The Pirates (2014)   \n",
       "20000261   131260            Rentun Ruusu (2001)   \n",
       "20000262   131262               Innocence (2014)   \n",
       "\n",
       "                                               genres  userId  rating  \\\n",
       "0         Adventure|Animation|Children|Comedy|Fantasy       3     4.0   \n",
       "1         Adventure|Animation|Children|Comedy|Fantasy       6     5.0   \n",
       "2         Adventure|Animation|Children|Comedy|Fantasy       8     4.0   \n",
       "3         Adventure|Animation|Children|Comedy|Fantasy      10     4.0   \n",
       "4         Adventure|Animation|Children|Comedy|Fantasy      11     4.5   \n",
       "...                                               ...     ...     ...   \n",
       "20000258                                       Comedy   79570     4.0   \n",
       "20000259                                       Comedy   79570     4.0   \n",
       "20000260                                    Adventure   28906     2.5   \n",
       "20000261                           (no genres listed)   65409     3.0   \n",
       "20000262                     Adventure|Fantasy|Horror  133047     4.0   \n",
       "\n",
       "                    timestamp  \n",
       "0         1999-12-11 13:36:47  \n",
       "1         1997-03-13 17:50:52  \n",
       "2         1996-06-05 13:37:51  \n",
       "3         1999-11-25 02:44:47  \n",
       "4         2009-01-02 01:13:41  \n",
       "...                       ...  \n",
       "20000258  2015-03-30 19:32:59  \n",
       "20000259  2015-03-30 19:48:08  \n",
       "20000260  2015-03-30 19:56:32  \n",
       "20000261  2015-03-30 19:57:46  \n",
       "20000262  2015-03-30 20:39:26  \n",
       "\n",
       "[20000263 rows x 6 columns]"
      ]
     },
     "execution_count": 12,
     "metadata": {},
     "output_type": "execute_result"
    }
   ],
   "source": [
    "titles_and_ratings_df"
   ]
  },
  {
   "cell_type": "code",
   "execution_count": 15,
   "metadata": {},
   "outputs": [
    {
     "data": {
      "text/plain": [
       "movieId      0\n",
       "title        0\n",
       "genres       0\n",
       "userId       0\n",
       "rating       0\n",
       "timestamp    0\n",
       "dtype: int64"
      ]
     },
     "execution_count": 15,
     "metadata": {},
     "output_type": "execute_result"
    }
   ],
   "source": [
    "# Checking for missing values\n",
    "titles_and_ratings_df.isnull().sum()"
   ]
  },
  {
   "cell_type": "code",
   "execution_count": 16,
   "metadata": {},
   "outputs": [
    {
     "name": "stdout",
     "output_type": "stream",
     "text": [
      "<class 'pandas.core.frame.DataFrame'>\n",
      "RangeIndex: 20000263 entries, 0 to 20000262\n",
      "Data columns (total 6 columns):\n",
      " #   Column     Dtype  \n",
      "---  ------     -----  \n",
      " 0   movieId    int64  \n",
      " 1   title      object \n",
      " 2   genres     object \n",
      " 3   userId     int64  \n",
      " 4   rating     float64\n",
      " 5   timestamp  object \n",
      "dtypes: float64(1), int64(2), object(3)\n",
      "memory usage: 915.5+ MB\n"
     ]
    }
   ],
   "source": [
    "titles_and_ratings_df.info()"
   ]
  },
  {
   "cell_type": "code",
   "execution_count": null,
   "metadata": {},
   "outputs": [
    {
     "data": {
      "text/plain": [
       "26729"
      ]
     },
     "execution_count": 19,
     "metadata": {},
     "output_type": "execute_result"
    }
   ],
   "source": [
    "# Total number of movies in the data set\n",
    "len(titles_and_ratings_df[\"title\"].unique())"
   ]
  },
  {
   "cell_type": "code",
   "execution_count": 24,
   "metadata": {},
   "outputs": [
    {
     "data": {
      "text/html": [
       "<div>\n",
       "<style scoped>\n",
       "    .dataframe tbody tr th:only-of-type {\n",
       "        vertical-align: middle;\n",
       "    }\n",
       "\n",
       "    .dataframe tbody tr th {\n",
       "        vertical-align: top;\n",
       "    }\n",
       "\n",
       "    .dataframe thead th {\n",
       "        text-align: right;\n",
       "    }\n",
       "</style>\n",
       "<table border=\"1\" class=\"dataframe\">\n",
       "  <thead>\n",
       "    <tr style=\"text-align: right;\">\n",
       "      <th></th>\n",
       "      <th>Kinds</th>\n",
       "    </tr>\n",
       "  </thead>\n",
       "  <tbody>\n",
       "    <tr>\n",
       "      <th>0</th>\n",
       "      <td>Adventure|Animation|Children|Comedy|Fantasy</td>\n",
       "    </tr>\n",
       "    <tr>\n",
       "      <th>1</th>\n",
       "      <td>Adventure|Children|Fantasy</td>\n",
       "    </tr>\n",
       "    <tr>\n",
       "      <th>2</th>\n",
       "      <td>Comedy|Romance</td>\n",
       "    </tr>\n",
       "    <tr>\n",
       "      <th>3</th>\n",
       "      <td>Comedy|Drama|Romance</td>\n",
       "    </tr>\n",
       "    <tr>\n",
       "      <th>4</th>\n",
       "      <td>Comedy</td>\n",
       "    </tr>\n",
       "    <tr>\n",
       "      <th>...</th>\n",
       "      <td>...</td>\n",
       "    </tr>\n",
       "    <tr>\n",
       "      <th>1324</th>\n",
       "      <td>Adventure|Children|Drama|Sci-Fi</td>\n",
       "    </tr>\n",
       "    <tr>\n",
       "      <th>1325</th>\n",
       "      <td>Children|Documentary|Drama</td>\n",
       "    </tr>\n",
       "    <tr>\n",
       "      <th>1326</th>\n",
       "      <td>Action|Adventure|Animation|Fantasy|Horror</td>\n",
       "    </tr>\n",
       "    <tr>\n",
       "      <th>1327</th>\n",
       "      <td>Animation|Children|Comedy|Fantasy|Sci-Fi</td>\n",
       "    </tr>\n",
       "    <tr>\n",
       "      <th>1328</th>\n",
       "      <td>Animation|Children|Comedy|Western</td>\n",
       "    </tr>\n",
       "  </tbody>\n",
       "</table>\n",
       "<p>1329 rows × 1 columns</p>\n",
       "</div>"
      ],
      "text/plain": [
       "                                            Kinds\n",
       "0     Adventure|Animation|Children|Comedy|Fantasy\n",
       "1                      Adventure|Children|Fantasy\n",
       "2                                  Comedy|Romance\n",
       "3                            Comedy|Drama|Romance\n",
       "4                                          Comedy\n",
       "...                                           ...\n",
       "1324              Adventure|Children|Drama|Sci-Fi\n",
       "1325                   Children|Documentary|Drama\n",
       "1326    Action|Adventure|Animation|Fantasy|Horror\n",
       "1327     Animation|Children|Comedy|Fantasy|Sci-Fi\n",
       "1328            Animation|Children|Comedy|Western\n",
       "\n",
       "[1329 rows x 1 columns]"
      ]
     },
     "execution_count": 24,
     "metadata": {},
     "output_type": "execute_result"
    }
   ],
   "source": [
    "# All the kinds of genres\n",
    "pd.DataFrame(titles_and_ratings_df[\"genres\"].unique(), columns= [\"Kinds\"])"
   ]
  },
  {
   "cell_type": "code",
   "execution_count": 25,
   "metadata": {},
   "outputs": [
    {
     "data": {
      "text/plain": [
       "138493"
      ]
     },
     "execution_count": 25,
     "metadata": {},
     "output_type": "execute_result"
    }
   ],
   "source": [
    "# Total number of users\n",
    "len(titles_and_ratings_df[\"userId\"].unique())"
   ]
  },
  {
   "cell_type": "markdown",
   "metadata": {},
   "source": [
    "## 1.2 Minhash Signatures"
   ]
  },
  {
   "cell_type": "markdown",
   "metadata": {},
   "source": [
    "Using the <strong> userId </strong> and <strong> movieId </strong> columns, implement your own MinHash function. This function will hash each user's watched movie list, creating a representation that allows for quick comparisons of user similarities."
   ]
  },
  {
   "cell_type": "markdown",
   "metadata": {},
   "source": [
    "To start with, we are going to create a dictionary that will contain all the movies each user has watched. So as keys we are going to use userId and as values, the movieId."
   ]
  },
  {
   "cell_type": "code",
   "execution_count": 4,
   "metadata": {},
   "outputs": [],
   "source": [
    "# Create the dictionary\n",
    "users_dict = titles_and_ratings_df.groupby('userId')['movieId'].apply(set).to_dict()"
   ]
  },
  {
   "cell_type": "markdown",
   "metadata": {},
   "source": [
    "Now we can move on and build our own MinHash function."
   ]
  },
  {
   "cell_type": "code",
   "execution_count": 21,
   "metadata": {},
   "outputs": [],
   "source": [
    "# First we have to define the hash function\n",
    "def hash_function(hashes, values, prime):\n",
    "    # It creates a number of hash functions and puts them in a list\n",
    "    hashes_list = []\n",
    "    for i in range(hashes):\n",
    "        a = random.randint(1, values)\n",
    "        b = random.randint(0, values)\n",
    "        hashes_list.append(lambda x, a=a, b=b, p=prime: (a * x + b) % p)\n",
    "    return hashes_list"
   ]
  },
  {
   "cell_type": "code",
   "execution_count": 6,
   "metadata": {},
   "outputs": [],
   "source": [
    "# Define MinHash Function\n",
    "def minhash(set, hashes_list):\n",
    "    minhash_vector = []\n",
    "    for i in hashes_list:\n",
    "        min_hash = min(i(title) for title in set)\n",
    "        minhash_vector.append(min_hash)\n",
    "    return minhash_vector"
   ]
  },
  {
   "cell_type": "markdown",
   "metadata": {},
   "source": [
    "After building our own MinHash function, we are going to define the number of hashes as well as the maximum values (values), in order to generate signature vectors for each user based on their rated movies"
   ]
  },
  {
   "cell_type": "code",
   "execution_count": 9,
   "metadata": {},
   "outputs": [],
   "source": [
    "# Number of hash functions and values \n",
    "hashes = 150\n",
    "values = max(titles_and_ratings_df['movieId'])\n",
    "\n",
    "hashes_list = hash_function(hashes, values)\n",
    "\n",
    "# Save each user's signature in a dictionary\n",
    "users_signatures = {}\n",
    "for userid, set in users_dict.items():\n",
    "    minhash_vector = minhash(set, hashes_list)\n",
    "    users_signatures[userid] = minhash_vector"
   ]
  },
  {
   "cell_type": "code",
   "execution_count": 20,
   "metadata": {},
   "outputs": [],
   "source": [
    "# Save it in A csv file\n",
    "csv_filename = 'users_signatures.csv'\n",
    "\n",
    "# Open the file in write mode\n",
    "with open(csv_filename, mode='w', newline='') as file:\n",
    "    writer = csv.writer(file)\n",
    "    \n",
    "    # Write the header \n",
    "    writer.writerow(['User', 'Signature'])\n",
    "    \n",
    "    # Write the dictionary data\n",
    "    for user, signature in users_signatures.items():\n",
    "        # Join the signature list into a string\n",
    "        signature_str = ','.join(map(str, signature))\n",
    "        # Write each row\n",
    "        writer.writerow([user, signature_str])"
   ]
  },
  {
   "cell_type": "markdown",
   "metadata": {},
   "source": [
    "Now if we want to do quick comparisons of user similarities, we have to create a <strong> Jaccard similarity </strong> function."
   ]
  },
  {
   "cell_type": "code",
   "execution_count": 10,
   "metadata": {},
   "outputs": [],
   "source": [
    "# Define Jaccard Similarity function\n",
    "def jaccard_similarity(user1, user2):\n",
    "    # user1 = signature of the first user\n",
    "    # user2 = signature of the second user\n",
    "    similarity = sum(1 for a, b in zip(user1, user2) if a == b) / len(user1)\n",
    "    return similarity"
   ]
  },
  {
   "cell_type": "code",
   "execution_count": 19,
   "metadata": {},
   "outputs": [
    {
     "name": "stdout",
     "output_type": "stream",
     "text": [
      "The similarity between the 2 users is:  1.0\n"
     ]
    }
   ],
   "source": [
    "# Testing \n",
    "user1 = users_signatures[6]\n",
    "user2 = users_signatures[6]\n",
    "similarity = jaccard_similarity(user1, user2)\n",
    "print(\"The similarity between the 2 users is: \", similarity)"
   ]
  },
  {
   "cell_type": "markdown",
   "metadata": {},
   "source": [
    "Experiment with different hash functions and threshold values to find the most effective configurations. Report these results."
   ]
  },
  {
   "cell_type": "code",
   "execution_count": null,
   "metadata": {},
   "outputs": [],
   "source": [
    "def experiment(users_dict, hash_configs, thresholds):\n",
    "    \"\"\"\n",
    "    Experiment with different hash configurations and thresholds.\n",
    "    - hash_configs: List of (num_hashes, prime) tuples.\n",
    "    - thresholds: List of similarity thresholds to test.\n",
    "    \"\"\"\n",
    "    results = []\n",
    "    \n",
    "    for num_hashes, prime in hash_configs:\n",
    "        # Generate hash functions\n",
    "        hash_funcs = hash_function(num_hashes, values, prime)\n",
    "        \n",
    "        # Compute MinHash signatures\n",
    "        signatures = minhash(set, hashes_list)\n",
    "        \n",
    "        # Compare all user pairs\n",
    "        users = list(signatures.keys())\n",
    "        comparisons = []\n",
    "        for i in range(len(users)):\n",
    "            for j in range(i + 1, len(users)):\n",
    "                user1, user2 = users[i], users[j]\n",
    "                sim = jaccard_similarity(signatures[user1], signatures[user2])\n",
    "                comparisons.append((user1, user2, sim))\n",
    "        \n",
    "        # Evaluate thresholds\n",
    "        for threshold in thresholds:\n",
    "            similar_pairs = [(u1, u2) for u1, u2, sim in comparisons if sim >= threshold]\n",
    "            results.append({\n",
    "                'num_hashes': num_hashes,\n",
    "                'prime': prime,\n",
    "                'threshold': threshold,\n",
    "                'similar_pairs': similar_pairs,\n",
    "                'num_similar_pairs': len(similar_pairs)\n",
    "            })\n",
    "    \n",
    "    return results\n"
   ]
  }
 ],
 "metadata": {
  "kernelspec": {
   "display_name": "Python 3",
   "language": "python",
   "name": "python3"
  },
  "language_info": {
   "codemirror_mode": {
    "name": "ipython",
    "version": 3
   },
   "file_extension": ".py",
   "mimetype": "text/x-python",
   "name": "python",
   "nbconvert_exporter": "python",
   "pygments_lexer": "ipython3",
   "version": "3.12.7"
  }
 },
 "nbformat": 4,
 "nbformat_minor": 2
}
