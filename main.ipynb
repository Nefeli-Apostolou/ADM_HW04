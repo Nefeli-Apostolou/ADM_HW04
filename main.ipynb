{
 "cells": [
  {
   "cell_type": "code",
   "execution_count": 1,
   "metadata": {},
   "outputs": [],
   "source": [
    "import pandas as pd\n",
    "import random\n",
    "import csv"
   ]
  },
  {
   "cell_type": "markdown",
   "metadata": {},
   "source": [
    "# 1. Recommendation System with LSH"
   ]
  },
  {
   "cell_type": "markdown",
   "metadata": {},
   "source": [
    "## 1.1 Data Preparation"
   ]
  },
  {
   "cell_type": "markdown",
   "metadata": {},
   "source": [
    "Before we biggin let's download and explore our dataset."
   ]
  },
  {
   "cell_type": "code",
   "execution_count": 2,
   "metadata": {},
   "outputs": [],
   "source": [
    "# Loading all the data\n",
    "movies_df = pd.read_csv('movie.csv')\n",
    "g_scores_df = pd.read_csv('genome_scores.csv')\n",
    "g_tags_df = pd.read_csv('genome_tags.csv')\n",
    "link_df = pd.read_csv('link.csv')\n",
    "rating_df = pd.read_csv('rating.csv')\n",
    "tag_df = pd.read_csv('tag.csv')"
   ]
  },
  {
   "cell_type": "markdown",
   "metadata": {},
   "source": [
    "For this part of the project we will need only the movies and rating df. So we are going to merge them and analyse them."
   ]
  },
  {
   "cell_type": "code",
   "execution_count": 3,
   "metadata": {},
   "outputs": [],
   "source": [
    "# Merge the two Data sets\n",
    "titles_and_ratings_df = pd.merge(movies_df, rating_df) "
   ]
  },
  {
   "cell_type": "code",
   "execution_count": 12,
   "metadata": {},
   "outputs": [
    {
     "data": {
      "text/html": [
       "<div>\n",
       "<style scoped>\n",
       "    .dataframe tbody tr th:only-of-type {\n",
       "        vertical-align: middle;\n",
       "    }\n",
       "\n",
       "    .dataframe tbody tr th {\n",
       "        vertical-align: top;\n",
       "    }\n",
       "\n",
       "    .dataframe thead th {\n",
       "        text-align: right;\n",
       "    }\n",
       "</style>\n",
       "<table border=\"1\" class=\"dataframe\">\n",
       "  <thead>\n",
       "    <tr style=\"text-align: right;\">\n",
       "      <th></th>\n",
       "      <th>movieId</th>\n",
       "      <th>title</th>\n",
       "      <th>genres</th>\n",
       "      <th>userId</th>\n",
       "      <th>rating</th>\n",
       "      <th>timestamp</th>\n",
       "    </tr>\n",
       "  </thead>\n",
       "  <tbody>\n",
       "    <tr>\n",
       "      <th>0</th>\n",
       "      <td>1</td>\n",
       "      <td>Toy Story (1995)</td>\n",
       "      <td>Adventure|Animation|Children|Comedy|Fantasy</td>\n",
       "      <td>3</td>\n",
       "      <td>4.0</td>\n",
       "      <td>1999-12-11 13:36:47</td>\n",
       "    </tr>\n",
       "    <tr>\n",
       "      <th>1</th>\n",
       "      <td>1</td>\n",
       "      <td>Toy Story (1995)</td>\n",
       "      <td>Adventure|Animation|Children|Comedy|Fantasy</td>\n",
       "      <td>6</td>\n",
       "      <td>5.0</td>\n",
       "      <td>1997-03-13 17:50:52</td>\n",
       "    </tr>\n",
       "    <tr>\n",
       "      <th>2</th>\n",
       "      <td>1</td>\n",
       "      <td>Toy Story (1995)</td>\n",
       "      <td>Adventure|Animation|Children|Comedy|Fantasy</td>\n",
       "      <td>8</td>\n",
       "      <td>4.0</td>\n",
       "      <td>1996-06-05 13:37:51</td>\n",
       "    </tr>\n",
       "    <tr>\n",
       "      <th>3</th>\n",
       "      <td>1</td>\n",
       "      <td>Toy Story (1995)</td>\n",
       "      <td>Adventure|Animation|Children|Comedy|Fantasy</td>\n",
       "      <td>10</td>\n",
       "      <td>4.0</td>\n",
       "      <td>1999-11-25 02:44:47</td>\n",
       "    </tr>\n",
       "    <tr>\n",
       "      <th>4</th>\n",
       "      <td>1</td>\n",
       "      <td>Toy Story (1995)</td>\n",
       "      <td>Adventure|Animation|Children|Comedy|Fantasy</td>\n",
       "      <td>11</td>\n",
       "      <td>4.5</td>\n",
       "      <td>2009-01-02 01:13:41</td>\n",
       "    </tr>\n",
       "    <tr>\n",
       "      <th>...</th>\n",
       "      <td>...</td>\n",
       "      <td>...</td>\n",
       "      <td>...</td>\n",
       "      <td>...</td>\n",
       "      <td>...</td>\n",
       "      <td>...</td>\n",
       "    </tr>\n",
       "    <tr>\n",
       "      <th>20000258</th>\n",
       "      <td>131254</td>\n",
       "      <td>Kein Bund für's Leben (2007)</td>\n",
       "      <td>Comedy</td>\n",
       "      <td>79570</td>\n",
       "      <td>4.0</td>\n",
       "      <td>2015-03-30 19:32:59</td>\n",
       "    </tr>\n",
       "    <tr>\n",
       "      <th>20000259</th>\n",
       "      <td>131256</td>\n",
       "      <td>Feuer, Eis &amp; Dosenbier (2002)</td>\n",
       "      <td>Comedy</td>\n",
       "      <td>79570</td>\n",
       "      <td>4.0</td>\n",
       "      <td>2015-03-30 19:48:08</td>\n",
       "    </tr>\n",
       "    <tr>\n",
       "      <th>20000260</th>\n",
       "      <td>131258</td>\n",
       "      <td>The Pirates (2014)</td>\n",
       "      <td>Adventure</td>\n",
       "      <td>28906</td>\n",
       "      <td>2.5</td>\n",
       "      <td>2015-03-30 19:56:32</td>\n",
       "    </tr>\n",
       "    <tr>\n",
       "      <th>20000261</th>\n",
       "      <td>131260</td>\n",
       "      <td>Rentun Ruusu (2001)</td>\n",
       "      <td>(no genres listed)</td>\n",
       "      <td>65409</td>\n",
       "      <td>3.0</td>\n",
       "      <td>2015-03-30 19:57:46</td>\n",
       "    </tr>\n",
       "    <tr>\n",
       "      <th>20000262</th>\n",
       "      <td>131262</td>\n",
       "      <td>Innocence (2014)</td>\n",
       "      <td>Adventure|Fantasy|Horror</td>\n",
       "      <td>133047</td>\n",
       "      <td>4.0</td>\n",
       "      <td>2015-03-30 20:39:26</td>\n",
       "    </tr>\n",
       "  </tbody>\n",
       "</table>\n",
       "<p>20000263 rows × 6 columns</p>\n",
       "</div>"
      ],
      "text/plain": [
       "          movieId                          title  \\\n",
       "0               1               Toy Story (1995)   \n",
       "1               1               Toy Story (1995)   \n",
       "2               1               Toy Story (1995)   \n",
       "3               1               Toy Story (1995)   \n",
       "4               1               Toy Story (1995)   \n",
       "...           ...                            ...   \n",
       "20000258   131254   Kein Bund für's Leben (2007)   \n",
       "20000259   131256  Feuer, Eis & Dosenbier (2002)   \n",
       "20000260   131258             The Pirates (2014)   \n",
       "20000261   131260            Rentun Ruusu (2001)   \n",
       "20000262   131262               Innocence (2014)   \n",
       "\n",
       "                                               genres  userId  rating  \\\n",
       "0         Adventure|Animation|Children|Comedy|Fantasy       3     4.0   \n",
       "1         Adventure|Animation|Children|Comedy|Fantasy       6     5.0   \n",
       "2         Adventure|Animation|Children|Comedy|Fantasy       8     4.0   \n",
       "3         Adventure|Animation|Children|Comedy|Fantasy      10     4.0   \n",
       "4         Adventure|Animation|Children|Comedy|Fantasy      11     4.5   \n",
       "...                                               ...     ...     ...   \n",
       "20000258                                       Comedy   79570     4.0   \n",
       "20000259                                       Comedy   79570     4.0   \n",
       "20000260                                    Adventure   28906     2.5   \n",
       "20000261                           (no genres listed)   65409     3.0   \n",
       "20000262                     Adventure|Fantasy|Horror  133047     4.0   \n",
       "\n",
       "                    timestamp  \n",
       "0         1999-12-11 13:36:47  \n",
       "1         1997-03-13 17:50:52  \n",
       "2         1996-06-05 13:37:51  \n",
       "3         1999-11-25 02:44:47  \n",
       "4         2009-01-02 01:13:41  \n",
       "...                       ...  \n",
       "20000258  2015-03-30 19:32:59  \n",
       "20000259  2015-03-30 19:48:08  \n",
       "20000260  2015-03-30 19:56:32  \n",
       "20000261  2015-03-30 19:57:46  \n",
       "20000262  2015-03-30 20:39:26  \n",
       "\n",
       "[20000263 rows x 6 columns]"
      ]
     },
     "execution_count": 12,
     "metadata": {},
     "output_type": "execute_result"
    }
   ],
   "source": [
    "titles_and_ratings_df"
   ]
  },
  {
   "cell_type": "code",
   "execution_count": 15,
   "metadata": {},
   "outputs": [
    {
     "data": {
      "text/plain": [
       "movieId      0\n",
       "title        0\n",
       "genres       0\n",
       "userId       0\n",
       "rating       0\n",
       "timestamp    0\n",
       "dtype: int64"
      ]
     },
     "execution_count": 15,
     "metadata": {},
     "output_type": "execute_result"
    }
   ],
   "source": [
    "# Checking for missing values\n",
    "titles_and_ratings_df.isnull().sum()"
   ]
  },
  {
   "cell_type": "code",
   "execution_count": 16,
   "metadata": {},
   "outputs": [
    {
     "name": "stdout",
     "output_type": "stream",
     "text": [
      "<class 'pandas.core.frame.DataFrame'>\n",
      "RangeIndex: 20000263 entries, 0 to 20000262\n",
      "Data columns (total 6 columns):\n",
      " #   Column     Dtype  \n",
      "---  ------     -----  \n",
      " 0   movieId    int64  \n",
      " 1   title      object \n",
      " 2   genres     object \n",
      " 3   userId     int64  \n",
      " 4   rating     float64\n",
      " 5   timestamp  object \n",
      "dtypes: float64(1), int64(2), object(3)\n",
      "memory usage: 915.5+ MB\n"
     ]
    }
   ],
   "source": [
    "titles_and_ratings_df.info()"
   ]
  },
  {
   "cell_type": "code",
   "execution_count": null,
   "metadata": {},
   "outputs": [
    {
     "data": {
      "text/plain": [
       "26729"
      ]
     },
     "execution_count": 19,
     "metadata": {},
     "output_type": "execute_result"
    }
   ],
   "source": [
    "# Total number of movies in the data set\n",
    "len(titles_and_ratings_df[\"title\"].unique())"
   ]
  },
  {
   "cell_type": "code",
   "execution_count": 24,
   "metadata": {},
   "outputs": [
    {
     "data": {
      "text/html": [
       "<div>\n",
       "<style scoped>\n",
       "    .dataframe tbody tr th:only-of-type {\n",
       "        vertical-align: middle;\n",
       "    }\n",
       "\n",
       "    .dataframe tbody tr th {\n",
       "        vertical-align: top;\n",
       "    }\n",
       "\n",
       "    .dataframe thead th {\n",
       "        text-align: right;\n",
       "    }\n",
       "</style>\n",
       "<table border=\"1\" class=\"dataframe\">\n",
       "  <thead>\n",
       "    <tr style=\"text-align: right;\">\n",
       "      <th></th>\n",
       "      <th>Kinds</th>\n",
       "    </tr>\n",
       "  </thead>\n",
       "  <tbody>\n",
       "    <tr>\n",
       "      <th>0</th>\n",
       "      <td>Adventure|Animation|Children|Comedy|Fantasy</td>\n",
       "    </tr>\n",
       "    <tr>\n",
       "      <th>1</th>\n",
       "      <td>Adventure|Children|Fantasy</td>\n",
       "    </tr>\n",
       "    <tr>\n",
       "      <th>2</th>\n",
       "      <td>Comedy|Romance</td>\n",
       "    </tr>\n",
       "    <tr>\n",
       "      <th>3</th>\n",
       "      <td>Comedy|Drama|Romance</td>\n",
       "    </tr>\n",
       "    <tr>\n",
       "      <th>4</th>\n",
       "      <td>Comedy</td>\n",
       "    </tr>\n",
       "    <tr>\n",
       "      <th>...</th>\n",
       "      <td>...</td>\n",
       "    </tr>\n",
       "    <tr>\n",
       "      <th>1324</th>\n",
       "      <td>Adventure|Children|Drama|Sci-Fi</td>\n",
       "    </tr>\n",
       "    <tr>\n",
       "      <th>1325</th>\n",
       "      <td>Children|Documentary|Drama</td>\n",
       "    </tr>\n",
       "    <tr>\n",
       "      <th>1326</th>\n",
       "      <td>Action|Adventure|Animation|Fantasy|Horror</td>\n",
       "    </tr>\n",
       "    <tr>\n",
       "      <th>1327</th>\n",
       "      <td>Animation|Children|Comedy|Fantasy|Sci-Fi</td>\n",
       "    </tr>\n",
       "    <tr>\n",
       "      <th>1328</th>\n",
       "      <td>Animation|Children|Comedy|Western</td>\n",
       "    </tr>\n",
       "  </tbody>\n",
       "</table>\n",
       "<p>1329 rows × 1 columns</p>\n",
       "</div>"
      ],
      "text/plain": [
       "                                            Kinds\n",
       "0     Adventure|Animation|Children|Comedy|Fantasy\n",
       "1                      Adventure|Children|Fantasy\n",
       "2                                  Comedy|Romance\n",
       "3                            Comedy|Drama|Romance\n",
       "4                                          Comedy\n",
       "...                                           ...\n",
       "1324              Adventure|Children|Drama|Sci-Fi\n",
       "1325                   Children|Documentary|Drama\n",
       "1326    Action|Adventure|Animation|Fantasy|Horror\n",
       "1327     Animation|Children|Comedy|Fantasy|Sci-Fi\n",
       "1328            Animation|Children|Comedy|Western\n",
       "\n",
       "[1329 rows x 1 columns]"
      ]
     },
     "execution_count": 24,
     "metadata": {},
     "output_type": "execute_result"
    }
   ],
   "source": [
    "# All the kinds of genres\n",
    "pd.DataFrame(titles_and_ratings_df[\"genres\"].unique(), columns= [\"Kinds\"])"
   ]
  },
  {
   "cell_type": "code",
   "execution_count": 25,
   "metadata": {},
   "outputs": [
    {
     "data": {
      "text/plain": [
       "138493"
      ]
     },
     "execution_count": 25,
     "metadata": {},
     "output_type": "execute_result"
    }
   ],
   "source": [
    "# Total number of users\n",
    "len(titles_and_ratings_df[\"userId\"].unique())"
   ]
  },
  {
   "cell_type": "markdown",
   "metadata": {},
   "source": [
    "## 1.2 Minhash Signatures"
   ]
  },
  {
   "cell_type": "markdown",
   "metadata": {},
   "source": [
    "Using the <strong> userId </strong> and <strong> movieId </strong> columns, implement your own MinHash function. This function will hash each user's watched movie list, creating a representation that allows for quick comparisons of user similarities."
   ]
  },
  {
   "cell_type": "markdown",
   "metadata": {},
   "source": [
    "To start with, we are going to create a dictionary that will contain all the movies each user has watched. So as keys we are going to use userId and as values, the movieId."
   ]
  },
  {
   "cell_type": "code",
   "execution_count": 4,
   "metadata": {},
   "outputs": [],
   "source": [
    "# Create the dictionary\n",
    "users_dict = titles_and_ratings_df.groupby('userId')['movieId'].apply(set).to_dict()"
   ]
  },
  {
   "cell_type": "markdown",
   "metadata": {},
   "source": [
    "Now we can move on and build our own MinHash function."
   ]
  },
  {
   "cell_type": "code",
   "execution_count": 5,
   "metadata": {},
   "outputs": [],
   "source": [
    "# First we have to define the hash function\n",
    "def hash_function(hashes, values, prime):\n",
    "    # It creates a number of hash functions and puts them in a list\n",
    "    hashes_list = []\n",
    "    for i in range(hashes):\n",
    "        a = random.randint(1, values)\n",
    "        b = random.randint(0, values)\n",
    "        hashes_list.append(lambda x, a=a, b=b, p=prime: (a * x + b) % p)\n",
    "    return hashes_list"
   ]
  },
  {
   "cell_type": "code",
   "execution_count": 6,
   "metadata": {},
   "outputs": [],
   "source": [
    "# Define MinHash Function\n",
    "def minhash(movie_set, hashes_list):\n",
    "    minhash_vector = []\n",
    "    for i in hashes_list:\n",
    "        min_hash = min(i(title) for title in movie_set)\n",
    "        minhash_vector.append(min_hash)\n",
    "    return minhash_vector"
   ]
  },
  {
   "cell_type": "markdown",
   "metadata": {},
   "source": [
    "After building our own MinHash function, we are going to define the number of hashes as well as the maximum values (values), in order to generate signature vectors for each user based on their rated movies"
   ]
  },
  {
   "cell_type": "code",
   "execution_count": 15,
   "metadata": {},
   "outputs": [],
   "source": [
    "# Number of hash functions and values \n",
    "hashes = 150\n",
    "prime = 150001\n",
    "values = max(titles_and_ratings_df['movieId'])\n",
    "\n",
    "hashes_list = hash_function(hashes, values, prime)\n",
    "\n",
    "# Save each user's signature in a dictionary\n",
    "users_signatures = {}\n",
    "for userid, movie_set in users_dict.items():\n",
    "    minhash_vector = minhash(movie_set, hashes_list)\n",
    "    users_signatures[userid] = minhash_vector"
   ]
  },
  {
   "cell_type": "code",
   "execution_count": 20,
   "metadata": {},
   "outputs": [],
   "source": [
    "# Save it in A csv file\n",
    "csv_filename = 'users_signatures.csv'\n",
    "\n",
    "# Open the file in write mode\n",
    "with open(csv_filename, mode='w', newline='') as file:\n",
    "    writer = csv.writer(file)\n",
    "    \n",
    "    # Write the header \n",
    "    writer.writerow(['User', 'Signature'])\n",
    "    \n",
    "    # Write the dictionary data\n",
    "    for user, signature in users_signatures.items():\n",
    "        # Join the signature list into a string\n",
    "        signature_str = ','.join(map(str, signature))\n",
    "        # Write each row\n",
    "        writer.writerow([user, signature_str])"
   ]
  },
  {
   "cell_type": "markdown",
   "metadata": {},
   "source": [
    "Now if we want to do quick comparisons of user similarities, we have to create a <strong> Jaccard similarity </strong> function."
   ]
  },
  {
   "cell_type": "code",
   "execution_count": 16,
   "metadata": {},
   "outputs": [],
   "source": [
    "# Define Jaccard Similarity function\n",
    "def jaccard_similarity(user1, user2):\n",
    "    # user1 = signature of the first user\n",
    "    # user2 = signature of the second user\n",
    "    similarity = sum(1 for a, b in zip(user1, user2) if a == b) / len(user1)\n",
    "    return similarity"
   ]
  },
  {
   "cell_type": "code",
   "execution_count": 17,
   "metadata": {},
   "outputs": [
    {
     "name": "stdout",
     "output_type": "stream",
     "text": [
      "The similarity between the 2 users is:  1.0\n"
     ]
    }
   ],
   "source": [
    "# Testing \n",
    "user1 = users_signatures[10]\n",
    "user2 = users_signatures[10]\n",
    "similarity = jaccard_similarity(user1, user2)\n",
    "print(\"The similarity between the 2 users is: \", similarity)"
   ]
  },
  {
   "cell_type": "markdown",
   "metadata": {},
   "source": [
    "Experiment with different hash functions and threshold values to find the most effective configurations. Report these results."
   ]
  },
  {
   "cell_type": "markdown",
   "metadata": {},
   "source": [
    "## 1.3 Locality-Sensitive Hashing (LSH)"
   ]
  },
  {
   "cell_type": "markdown",
   "metadata": {},
   "source": [
    "First we have to convert the signatures column into a list of integers:"
   ]
  },
  {
   "cell_type": "markdown",
   "metadata": {},
   "source": [
    "2. Define the LSH Function\n",
    "The LSH function remains the same, but now signatures is a list of lists:"
   ]
  },
  {
   "cell_type": "code",
   "execution_count": 18,
   "metadata": {},
   "outputs": [],
   "source": [
    "import hashlib\n",
    "from collections import defaultdict\n",
    "\n",
    "def lsh(users_signatures, num_bands, rows_per_band):\n",
    "    \"\"\"\n",
    "    Apply Locality-Sensitive Hashing (LSH) to cluster similar users using a dictionary.\n",
    "    :param user_signatures: Dictionary {userId: [signature]}.\n",
    "    :param num_bands: Number of bands to divide the signature into.\n",
    "    :param rows_per_band: Number of rows per band.\n",
    "    :return: Dictionary of buckets {band_hash: [userIds]}.\n",
    "    \"\"\"\n",
    "    buckets = defaultdict(list)  # Dictionary to store buckets\n",
    "    num_hashes = len(next(iter(users_signatures.values())))  # Get length of the first signature\n",
    "    assert num_hashes == num_bands * rows_per_band, \\\n",
    "        \"Number of hash values must equal num_bands * rows_per_band\"\n",
    "\n",
    "    for user_id, signature in users_signatures.items():\n",
    "        for band in range(num_bands):\n",
    "            # Extract the rows for this band\n",
    "            start = band * rows_per_band\n",
    "            end = start + rows_per_band\n",
    "            band_values = tuple(signature[start:end])\n",
    "\n",
    "            # Hash the band values to form a bucket key\n",
    "            band_hash = hashlib.md5(str(band_values).encode('utf-8')).hexdigest()\n",
    "\n",
    "            # Add user ID to the corresponding bucket\n",
    "            buckets[band_hash].append(user_id)\n",
    "    \n",
    "    return buckets\n",
    "\n"
   ]
  },
  {
   "cell_type": "markdown",
   "metadata": {},
   "source": [
    "3. Apply LSH\n",
    "For \n",
    "𝑛\n",
    "=\n",
    "150\n",
    ",\n",
    "𝑏\n",
    "=\n",
    "30\n",
    ",\n",
    "𝑟\n",
    "=\n",
    "5\n",
    "n=150,b=30,r=5:"
   ]
  },
  {
   "cell_type": "code",
   "execution_count": 24,
   "metadata": {},
   "outputs": [
    {
     "name": "stdout",
     "output_type": "stream",
     "text": [
      "Bucket 3ad3e75ffa00745918ee2b75f831c12e: Users [1]\n",
      "Bucket 60163ae646ab6de1fbf9128738b594e3: Users [1]\n",
      "Bucket d971b8c633f20941d71cd5de85eab31d: Users [1]\n",
      "Bucket aebc4c1a93687b924c74f708c6475c17: Users [1]\n",
      "Bucket bc8ce915c38a3d2baa3cd0b9f51198e8: Users [1]\n"
     ]
    }
   ],
   "source": [
    "# Set parameters\n",
    "num_bands = 30\n",
    "rows_per_band = 5\n",
    "\n",
    "# Apply LSH\n",
    "buckets = lsh(users_signatures, num_bands, rows_per_band)\n",
    "\n",
    "# Inspect a few buckets\n",
    "for bucket_hash, users in list(buckets.items())[:5]:  # Check the first 5 buckets\n",
    "    print(f\"Bucket {bucket_hash}: Users {users}\")"
   ]
  },
  {
   "cell_type": "code",
   "execution_count": 25,
   "metadata": {},
   "outputs": [
    {
     "name": "stdout",
     "output_type": "stream",
     "text": [
      "Total clusters found: 208057\n",
      "Cluster: [1, 70996]\n",
      "Cluster: [1, 130035]\n",
      "Cluster: [2, 21944]\n",
      "Cluster: [3, 66047, 81290, 115541]\n",
      "Cluster: [3, 4554, 14261, 50142, 91570, 92016, 92419, 100848]\n"
     ]
    }
   ],
   "source": [
    "# Create clusters\n",
    "clusters = [users for users in buckets.values() if len(users) > 1]\n",
    "print(f\"Total clusters found: {len(clusters)}\")\n",
    "for cluster in clusters[:5]:  # Display the first 5 clusters\n",
    "    print(f\"Cluster: {cluster}\")"
   ]
  },
  {
   "cell_type": "markdown",
   "metadata": {},
   "source": [
    "Now, for a given user, identify the two most similar users based on their bucket placement. If a user doesn’t have any similar users in their bucket, adjust the parameters until similar users are found"
   ]
  },
  {
   "cell_type": "code",
   "execution_count": 26,
   "metadata": {},
   "outputs": [],
   "source": [
    "def find_most_similar_users(user_id, buckets, users_signatures, jaccard_similarity):\n",
    "    # Step 1: Get the list of users in the same bucket as the given user\n",
    "    similar_users = []\n",
    "    \n",
    "    # Look through all the buckets to find the one containing the given user\n",
    "    for bucket_hash, users_in_bucket in buckets.items():\n",
    "        if user_id in users_in_bucket:\n",
    "            similar_users = users_in_bucket\n",
    "            break\n",
    "    \n",
    "    # Step 2: If no similar users were found, return a tuple with None values\n",
    "    if len(similar_users) <= 1:\n",
    "        return None, None  # We return None for both values\n",
    "    \n",
    "    # Step 3: Compare the users in the same bucket using Jaccard similarity\n",
    "    most_similar_users = []\n",
    "    max_similarity = 0\n",
    "    \n",
    "    # Loop over all pairs of users in the same bucket\n",
    "    for user1_id in similar_users:\n",
    "        if user1_id == user_id:\n",
    "            continue\n",
    "        for user2_id in similar_users:\n",
    "            if user1_id == user2_id or user2_id == user_id:\n",
    "                continue\n",
    "            # Compute similarity between user1_id and user2_id using your Jaccard function\n",
    "            similarity = jaccard_similarity(users_signatures[user1_id], users_signatures[user2_id])\n",
    "            if similarity > max_similarity:\n",
    "                max_similarity = similarity\n",
    "                most_similar_users = [user1_id, user2_id]\n",
    "    \n",
    "    return most_similar_users, max_similarity\n"
   ]
  },
  {
   "cell_type": "code",
   "execution_count": 27,
   "metadata": {},
   "outputs": [
    {
     "name": "stdout",
     "output_type": "stream",
     "text": [
      "The two most similar users to user 158 are: [9905, 90063] with a similarity of 0.8333333333333334\n"
     ]
    }
   ],
   "source": [
    "# Example usage for a specific user (e.g., user 158)\n",
    "user_id = 158\n",
    "most_similar_users, max_similarity = find_most_similar_users(user_id, buckets, users_signatures, jaccard_similarity)\n",
    "print(f\"The two most similar users to user {user_id} are: {most_similar_users} with a similarity of {max_similarity}\")"
   ]
  },
  {
   "cell_type": "markdown",
   "metadata": {},
   "source": [
    "Movie Recommendation Logic:\n",
    "\n",
    "If both similar users have rated a movie, recommend this movie based on the average rating.\n",
    "If there are no commonly rated movies, recommend the top-rated movies of the most similar user."
   ]
  },
  {
   "cell_type": "code",
   "execution_count": 67,
   "metadata": {},
   "outputs": [],
   "source": [
    "del set"
   ]
  },
  {
   "cell_type": "code",
   "execution_count": 31,
   "metadata": {},
   "outputs": [],
   "source": [
    "def recommend_movies(user_id, similar_users, rating_df, movies_df, users_signatures):\n",
    "    \"\"\"\n",
    "    Recommend movies for a given user based on the most similar users and their ratings, including movie titles.\n",
    "    \n",
    "    Returns:\n",
    "        A DataFrame with recommended movies and corresponding information.\n",
    "    \"\"\"\n",
    "    user_recommendations = []\n",
    "    similar_user1, similar_user2 = similar_users\n",
    "\n",
    "    # Step 1: Get ratings for the similar users\n",
    "    user1_ratings = rating_df[rating_df['userId'] == similar_user1]\n",
    "    user2_ratings = rating_df[rating_df['userId'] == similar_user2]\n",
    "\n",
    "    # Step 2: Find common movies rated by both similar users\n",
    "    user1_movies = set(user1_ratings['movieId'])\n",
    "    user2_movies = set(user2_ratings['movieId'])\n",
    "    common_movies = user1_movies.intersection(user2_movies)\n",
    "\n",
    "    if common_movies:\n",
    "        # Add common movies with average ratings\n",
    "        for movie in common_movies:\n",
    "            rating1 = user1_ratings[user1_ratings['movieId'] == movie]['rating'].values[0]\n",
    "            rating2 = user2_ratings[user2_ratings['movieId'] == movie]['rating'].values[0]\n",
    "            avg_rating = (rating1 + rating2) / 2\n",
    "\n",
    "            movie_title = movies_df[movies_df['movieId'] == movie]['title'].values[0]\n",
    "            user_recommendations.append({'Target User': user_id, \n",
    "                                         'Similar User': similar_user1, \n",
    "                                         'Movie ID': movie, \n",
    "                                         'Title': movie_title, \n",
    "                                         'Rating': avg_rating})\n",
    "            user_recommendations.append({'Target User': user_id, \n",
    "                                         'Similar User': similar_user2, \n",
    "                                         'Movie ID': movie, \n",
    "                                         'Title': movie_title, \n",
    "                                         'Rating': avg_rating})\n",
    "\n",
    "    # Step 3: Handle the case when fewer than 5 movies are found\n",
    "    if len(user_recommendations) < 5:\n",
    "        # Calculate Jaccard similarity between the target user and the similar users\n",
    "        target_user_signature = users_signatures[user_id]\n",
    "        similarity_user1 = jaccard_similarity(target_user_signature, users_signatures[similar_user1])\n",
    "        similarity_user2 = jaccard_similarity(target_user_signature, users_signatures[similar_user2])\n",
    "\n",
    "        # Choose the most similar user\n",
    "        most_similar_user = similar_user1 if similarity_user1 > similarity_user2 else similar_user2\n",
    "\n",
    "        # Add top-rated movies from the most similar user\n",
    "        most_similar_ratings = rating_df[rating_df['userId'] == most_similar_user]\n",
    "        top_rated_movies = most_similar_ratings.sort_values(by='rating', ascending=False)\n",
    "\n",
    "        # Avoid recommending already included movies\n",
    "        already_recommended = {rec['Movie ID'] for rec in user_recommendations}\n",
    "        for _, row in top_rated_movies.iterrows():\n",
    "            if len(user_recommendations) >= 5:\n",
    "                break\n",
    "            if row['movieId'] not in already_recommended:\n",
    "                movie_title = movies_df[movies_df['movieId'] == row['movieId']]['title'].values[0]\n",
    "                user_recommendations.append({'Target User': user_id, \n",
    "                                             'Similar User': most_similar_user, \n",
    "                                             'Movie ID': row['movieId'], \n",
    "                                             'Title': movie_title, \n",
    "                                             'Rating': row['rating']})\n",
    "\n",
    "    # Step 4: Finalize the recommendations\n",
    "    recommendations_df = pd.DataFrame(user_recommendations).head(5)\n",
    "    return recommendations_df\n",
    "\n"
   ]
  },
  {
   "cell_type": "code",
   "execution_count": 36,
   "metadata": {},
   "outputs": [
    {
     "name": "stdout",
     "output_type": "stream",
     "text": [
      "   Target User  Similar User  Movie ID                               Title  \\\n",
      "0            6          1547       357  Four Weddings and a Funeral (1994)   \n",
      "1            6           476       357  Four Weddings and a Funeral (1994)   \n",
      "2            6          1547         7                      Sabrina (1995)   \n",
      "3            6           476         7                      Sabrina (1995)   \n",
      "4            6          1547       648          Mission: Impossible (1996)   \n",
      "\n",
      "   Rating  \n",
      "0     3.5  \n",
      "1     3.5  \n",
      "2     4.5  \n",
      "3     4.5  \n",
      "4     4.0  \n"
     ]
    }
   ],
   "source": [
    "# Example usage: Recommend movies for user 1 based on most similar users [2, 3]\n",
    "user_id = 6\n",
    "similar_users = [1547, 476]\n",
    "recommended_movies = recommend_movies(user_id, similar_users, rating_df, movies_df, users_signatures)\n",
    "\n",
    "print(recommended_movies)"
   ]
  }
 ],
 "metadata": {
  "kernelspec": {
   "display_name": "Python 3",
   "language": "python",
   "name": "python3"
  },
  "language_info": {
   "codemirror_mode": {
    "name": "ipython",
    "version": 3
   },
   "file_extension": ".py",
   "mimetype": "text/x-python",
   "name": "python",
   "nbconvert_exporter": "python",
   "pygments_lexer": "ipython3",
   "version": "3.12.7"
  }
 },
 "nbformat": 4,
 "nbformat_minor": 2
}
